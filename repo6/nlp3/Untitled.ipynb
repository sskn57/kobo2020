{
 "cells": [
  {
   "cell_type": "markdown",
   "metadata": {},
   "source": [
    "推論ベース\\\n",
    "コンテキストから注目する単語を推論する\\\n",
    "モデルを考える。コンテキスト情報を入力、各単語の出現する確率を出力\\"
   ]
  },
  {
   "cell_type": "code",
   "execution_count": 2,
   "metadata": {},
   "outputs": [
    {
     "name": "stdout",
     "output_type": "stream",
     "text": [
      "[[0.25264662 0.42169536 0.25206851]]\n"
     ]
    }
   ],
   "source": [
    "import numpy as np\n",
    "\n",
    "C = np.array([[1, 0, 0, 0, 0, 0, 0]]) #入力(コンテキスト情報)\n",
    "W = np.random.randn(7, 3)\n",
    "h = np.dot(C, W) #中間ノード\n",
    "print(h)"
   ]
  },
  {
   "cell_type": "code",
   "execution_count": null,
   "metadata": {},
   "outputs": [],
   "source": []
  }
 ],
 "metadata": {
  "kernelspec": {
   "display_name": "Python 3",
   "language": "python",
   "name": "python3"
  },
  "language_info": {
   "codemirror_mode": {
    "name": "ipython",
    "version": 3
   },
   "file_extension": ".py",
   "mimetype": "text/x-python",
   "name": "python",
   "nbconvert_exporter": "python",
   "pygments_lexer": "ipython3",
   "version": "3.7.6"
  }
 },
 "nbformat": 4,
 "nbformat_minor": 4
}
