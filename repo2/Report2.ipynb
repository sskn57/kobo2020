{
 "cells": [
  {
   "cell_type": "code",
   "execution_count": 1,
   "metadata": {},
   "outputs": [
    {
     "name": "stdout",
     "output_type": "stream",
     "text": [
      "[[3.34409346e-04 9.96860212e-01]\n",
      " [3.34409346e-04 2.47096942e-03]]\n",
      "0.9999999999999998\n"
     ]
    }
   ],
   "source": [
    "import numpy as np\n",
    "\n",
    "def soft_max(x):\n",
    "    y = np.exp(x) #e^x配列\n",
    "    #print(y) #確認用\n",
    "    \n",
    "    sum_y = np.sum(y) ##配列の和\n",
    "    #print(sum_y) #確認用\n",
    "    \n",
    "    r = y/sum_y #出力\n",
    "    #print(r) #確認用\n",
    "    return(r)\n",
    "\n",
    "a = np.array([[1, 9], [1, 3]])\n",
    "#soft_max()実行\n",
    "print(soft_max(a))\n",
    "#soft_max(a)の和を計算\n",
    "print(np.sum(soft_max(a)))\n"
   ]
  },
  {
   "cell_type": "markdown",
   "metadata": {},
   "source": [
    "softmax()関数を実装した。\n",
    "定義に従って計算させた。\n",
    "np.sum()は配列全要素の和を返し、sum()は配列の列ごとの和を配列で返す。\n",
    "soft_max()の和は1になると考えられるので、和を計算させた。\n",
    "ほとんど1になっていることが確認できた。\n",
    "参考文献1には、まず入力配列の要素の最大値を計算し、各要素とその最大値の差を使って計算することでオーバーフローが防げるとある。この手法を用いてsoft_max2()関数を実装した。"
   ]
  },
  {
   "cell_type": "code",
   "execution_count": 2,
   "metadata": {},
   "outputs": [
    {
     "name": "stdout",
     "output_type": "stream",
     "text": [
      "[[3.34409346e-04 9.96860212e-01]\n",
      " [3.34409346e-04 2.47096942e-03]]\n",
      "1.0000000000000002\n",
      "[[3.34409346e-04 9.96860212e-01]\n",
      " [3.34409346e-04 2.47096942e-03]]\n",
      "0.9999999999999999\n"
     ]
    }
   ],
   "source": [
    "def soft_max2(x):\n",
    "    m = np.max(x)\n",
    "    #print(m) #確認用\n",
    "    \n",
    "    y = np.exp(x-m) #e^x配列\n",
    "    #print(y) #確認用\n",
    "    \n",
    "    sum_y = np.sum(y) ##配列の和\n",
    "    #print(sum_y) #確認用\n",
    "    \n",
    "    r = y/sum_y #出力\n",
    "    #print(r) #確認用\n",
    "    return(r)\n",
    "\n",
    "a = np.array([[1, 9], [1, 3]])\n",
    "#soft_max2()実行\n",
    "print(soft_max2(a))\n",
    "#soft_max2(a)の和を計算\n",
    "print(np.sum(soft_max2(a)))\n",
    "\n",
    "print((soft_max(a)+soft_max2(a))/2)\n",
    "print(np.sum((soft_max(a)+soft_max2(a))/2))"
   ]
  },
  {
   "cell_type": "markdown",
   "metadata": {},
   "source": [
    "和を計算すると、1よりわずかに上回った。soft_max()に比べ、x軸の向きが反転しているからと考えられる。soft_max()とsoft_max2()の平均をとると誤差が小さくなった。しかし、実行速度が落ちるので意味はないと思われる。\n",
    "\n",
    "また考察として、入力配列で単純に比を取ると\n",
    "1/14,9/14,1/14,3/14であり、桁数に大きな差はでないがsoft_max()で行うと桁数に差が大きく生じるほど比に差が出ることが確認できた。"
   ]
  },
  {
   "cell_type": "code",
   "execution_count": 3,
   "metadata": {
    "scrolled": false
   },
   "outputs": [
    {
     "name": "stdout",
     "output_type": "stream",
     "text": [
      "[[0.73105858 0.99987661]\n",
      " [0.73105858 0.95257413]]\n"
     ]
    }
   ],
   "source": [
    "import numpy as np\n",
    "\n",
    "def sigmoid(x):\n",
    "    return(1/(1+np.exp(-x)))\n",
    "\n",
    "a = np.array([[1,9],[1,3]])\n",
    "print(sigmoid(a))"
   ]
  },
  {
   "cell_type": "markdown",
   "metadata": {},
   "source": [
    "sigmoid()関数を用いると、soft_max()の時と違って値同士の桁数にあまり差が出ないことが分かった。三層にして利用する場合、soft_max()関数を利用した場合、出力値間で非常に大きな差が生じてしまうと考えられる。"
   ]
  },
  {
   "cell_type": "code",
   "execution_count": 4,
   "metadata": {
    "scrolled": false
   },
   "outputs": [
    {
     "name": "stdout",
     "output_type": "stream",
     "text": [
      "[[0.57855079 0.66736228]]\n"
     ]
    }
   ],
   "source": [
    "import numpy as np\n",
    "\n",
    "#恒等関数\n",
    "def identity_function(x):\n",
    "    return x\n",
    "\n",
    "def init_network():\n",
    "    network={}\n",
    "    network['W1'] = np.array([[0.1, 0.3, 0.5], [0.2, 0.4, 0.6]])\n",
    "    network['b1'] = np.array([[0.1, 0.2, 0.3]])\n",
    "    network['W2'] = np.array([[0.1, 0.4], [0.2, 0.5], [0.3, 0.6]])\n",
    "    network['b2'] = np.array([[0.1, 0.2]])\n",
    "    network['W3'] = np.array([[0.1, 0.3], [0.2, 0.4]])\n",
    "    network['b3'] = np.array([[0.1, 0.2]])\n",
    "    return network\n",
    "def forward(network, x):\n",
    "    # layer 1\n",
    "    W1=network['W1']\n",
    "    b1=network['b1']\n",
    "    a1=np.dot(x,W1)+b1\n",
    "    z1=sigmoid(a1)\n",
    "    # layer2 \n",
    "    W2=network['W2']\n",
    "    b2=network['b2']\n",
    "    a2=np.dot(z1,W2)+b2\n",
    "    z2=sigmoid(a2)\n",
    "    # layer3\n",
    "    W3=network['W3']\n",
    "    b3=network['b3']\n",
    "    a3=np.dot(z2,W3)+b3\n",
    "    y=sigmoid(a3) #[[0.57855079 0.66736228]]\n",
    "    #y=identity_function(a3) #[[0.57855079 0.66736228]]\n",
    "    return y\n",
    "\n",
    "network = init_network()\n",
    "x=np.array([1.0,0.5])\n",
    "y=forward(network,x)\n",
    "print(y) #[0.31682708 0.69627909]"
   ]
  },
  {
   "cell_type": "code",
   "execution_count": 5,
   "metadata": {},
   "outputs": [],
   "source": [
    "import numpy as np\n",
    "import random  \n",
    "network = init_network()\n",
    "batch_size = 16\n",
    "x=np.random.rand(1000,2)\n",
    "for i in range(0,len(x),batch_size):\n",
    "    x_batch = x[i:i+batch_size]\n",
    "    y_batch = forward(network,x_batch)"
   ]
  },
  {
   "cell_type": "code",
   "execution_count": 6,
   "metadata": {},
   "outputs": [
    {
     "data": {
      "text/plain": [
       "(1000, 2)"
      ]
     },
     "execution_count": 6,
     "metadata": {},
     "output_type": "execute_result"
    }
   ],
   "source": [
    "x.shape"
   ]
  },
  {
   "cell_type": "code",
   "execution_count": 7,
   "metadata": {
    "scrolled": false
   },
   "outputs": [
    {
     "data": {
      "text/plain": [
       "(8, 2)"
      ]
     },
     "execution_count": 7,
     "metadata": {},
     "output_type": "execute_result"
    }
   ],
   "source": [
    "x_batch.shape"
   ]
  },
  {
   "cell_type": "markdown",
   "metadata": {},
   "source": [
    "サイズが小さくなっているのが分かった。1000/16だと余りがでるので、8になったのだと考えられる。\n",
    "\n",
    "感想\n",
    "活性化関数の働きについて少し理解することができた。また、ニューラルネットワークが辞書型で作成されていて、今まであまり辞書型を扱ったことがなかったので、こういうところで辞書が活躍するのかと感じた。\n",
    "バッチ処理についてまだ理解が甘いので、もっと勉強したいです。"
   ]
  },
  {
   "cell_type": "markdown",
   "metadata": {},
   "source": [
    "参考文献\n",
    "1.https://omedstu.jimdofree.com/2018/08/15/numpy%E3%81%A7softargmax%E3%82%92%E5%AE%9F%E8%A3%85%E3%81%97%E3%81%A6%E3%81%BF%E3%81%9F/\n",
    "2.http://yusuke-ujitoko.hatenablog.com/entry/2016/12/25/232555"
   ]
  }
 ],
 "metadata": {
  "kernelspec": {
   "display_name": "Python 3",
   "language": "python",
   "name": "python3"
  },
  "language_info": {
   "codemirror_mode": {
    "name": "ipython",
    "version": 3
   },
   "file_extension": ".py",
   "mimetype": "text/x-python",
   "name": "python",
   "nbconvert_exporter": "python",
   "pygments_lexer": "ipython3",
   "version": "3.7.6"
  }
 },
 "nbformat": 4,
 "nbformat_minor": 4
}
