{
 "cells": [
  {
   "cell_type": "code",
   "execution_count": 1,
   "metadata": {
    "colab": {
     "base_uri": "https://localhost:8080/",
     "height": 34
    },
    "colab_type": "code",
    "executionInfo": {
     "elapsed": 581,
     "status": "ok",
     "timestamp": 1595491252104,
     "user": {
      "displayName": "kyoukai",
      "photoUrl": "https://lh3.googleusercontent.com/a-/AOh14GgNJDD0bSFRgPAuHBICJ7MDEaJlN06Lg-agxt6Y=s64",
      "userId": "18439989185818494224"
     },
     "user_tz": -540
    },
    "id": "DNOCq-nJhQMJ",
    "outputId": "05375db2-7ee3-4069-9300-cd38943a13c4"
   },
   "outputs": [],
   "source": [
    "import os\n",
    "\n",
    "#モジュール追加用pathの設定\n",
    "import sys\n",
    "#sys.path.append('..')\n",
    "\n",
    "#モジュールのインポート\n",
    "import numpy as np"
   ]
  },
  {
   "cell_type": "markdown",
   "metadata": {
    "colab_type": "text",
    "id": "qIJ_eIppmUJw"
   },
   "source": [
    "**70.py**"
   ]
  },
  {
   "cell_type": "code",
   "execution_count": 2,
   "metadata": {
    "colab": {
     "base_uri": "https://localhost:8080/",
     "height": 467
    },
    "colab_type": "code",
    "executionInfo": {
     "elapsed": 187714,
     "status": "error",
     "timestamp": 1595491442402,
     "user": {
      "displayName": "kyoukai",
      "photoUrl": "https://lh3.googleusercontent.com/a-/AOh14GgNJDD0bSFRgPAuHBICJ7MDEaJlN06Lg-agxt6Y=s64",
      "userId": "18439989185818494224"
     },
     "user_tz": -540
    },
    "id": "HjmFFoQUh2fQ",
    "outputId": "7878dfbb-4e92-4778-b7e2-6dceeb5d6a60"
   },
   "outputs": [],
   "source": [
    "import gensim\n",
    "import re\n",
    "import torch\n",
    "import numpy as np\n",
    "\n",
    "\n",
    "w2v_path = \"GoogleNews-vectors-negative300.bin\" #todo GoogleNews-vectors-negative300.binのパスを指定\n",
    "data_path = \"./\"#todo ファイル出力ディレクトリを指定\n",
    "\n",
    "w2v_model = gensim.models.KeyedVectors.load_word2vec_format(w2v_path, binary=True) #todo gensimでword2vecのモデルを読み込む\n",
    "\n",
    "category2num = {\"b\": 0, \"t\": 1, \"e\": 2, \"m\": 3}"
   ]
  },
  {
   "cell_type": "code",
   "execution_count": 3,
   "metadata": {},
   "outputs": [
    {
     "data": {
      "text/plain": [
       "(300,)"
      ]
     },
     "execution_count": 3,
     "metadata": {},
     "output_type": "execute_result"
    }
   ],
   "source": [
    "w2v_model['the'].shape"
   ]
  },
  {
   "cell_type": "code",
   "execution_count": 4,
   "metadata": {},
   "outputs": [
    {
     "name": "stdout",
     "output_type": "stream",
     "text": [
      "(300,)\n",
      "<class 'numpy.ndarray'>\n",
      "--------------------\n",
      "<class 'list'>\n",
      "--------------------\n",
      "torch.Size([10671])\n",
      "<class 'torch.Tensor'>\n",
      "--------------------\n"
     ]
    }
   ],
   "source": [
    "import numpy as np\n",
    "\n",
    "a = np.arange(1,301)\n",
    "print(a.shape)\n",
    "print(type(a))\n",
    "print('-'*20)\n",
    "\n",
    "b = [0]*10671\n",
    "print(type(b))\n",
    "print('-'*20)\n",
    "\n",
    "c = torch.tensor(b)\n",
    "print(c.shape)\n",
    "print(type(c))\n",
    "print('-'*20)"
   ]
  },
  {
   "cell_type": "code",
   "execution_count": 6,
   "metadata": {},
   "outputs": [
    {
     "name": "stdout",
     "output_type": "stream",
     "text": [
      "10671\n",
      "3\n",
      "1334\n",
      "0\n",
      "1334\n",
      "2\n"
     ]
    }
   ],
   "source": [
    "# タイトルを受け取り，単語ベクトルの平均を返す関数\n",
    "def get_feature(title):\n",
    "    word_list = title.split(' ')#todo タイトルをスペースで分割\n",
    "    vec_list = []\n",
    "    for word in word_list:\n",
    "        try:\n",
    "            vec =w2v_model[word] #todo wordを意味するベクトルを取得\n",
    "#             print('bb')\n",
    "        except KeyError:\n",
    "            vec = np.zeros(300)#todo すべての要素が0のベクトルを代入\n",
    "#             print('aa')\n",
    "        vec_list.append(vec)    \n",
    "    vec_np = np.array(vec_list) # numpyのarrayに変換\n",
    "    feature = np.sum(vec_np)/len(vec_np)# 平均ベクトルを計算\n",
    "    return feature\n",
    "\n",
    "\n",
    "def get_data(fname):\n",
    "    label_list = []\n",
    "    feature_list = []\n",
    "    with open(fname, encoding=\"utf-8\") as f:\n",
    "        for line in f:\n",
    "            if not line:\n",
    "                continue\n",
    "            data = line.split('\\t')\n",
    "            title = data[1]#todo dataからタイトルを取り出す\n",
    "            feature = get_feature(title) \n",
    "            feature_list.append(feature)\n",
    "            label = category2num[data[0]]\n",
    "            label_list.append(label)\n",
    "    print(len(feature_list))\n",
    "    print(label_list[0])\n",
    "    features = torch.tensor(feature_list)#todo feature_listをtensorに変換\n",
    "    labels = torch.tensor(label_list)#todo label_listをtensorに変換\n",
    "    return features, labels\n",
    "\n",
    "\n",
    "train_x, train_y = get_data(data_path + \"train.txt\")\n",
    "valid_x, valid_y = get_data(data_path + \"valid.txt\")\n",
    "test_x, test_y = get_data(data_path + \"test.txt\")\n",
    "\n",
    "# 保存\n",
    "torch.save(train_x, data_path + \"train_x.pt\")\n",
    "torch.save(train_y, data_path + \"train_y.pt\")\n",
    "torch.save(valid_x, data_path + \"valid_x.pt\")\n",
    "torch.save(valid_y, data_path + \"valid_y.pt\")\n",
    "torch.save(test_x, data_path + \"test_x.pt\")\n",
    "torch.save(test_y, data_path + \"test_y.pt\")"
   ]
  },
  {
   "cell_type": "markdown",
   "metadata": {},
   "source": [
    "実行したところ確かに上記のファイルが作成できた。"
   ]
  }
 ],
 "metadata": {
  "colab": {
   "authorship_tag": "ABX9TyPv5v9fpsVIIt0W45re9rjQ",
   "collapsed_sections": [],
   "name": "pytorch03.ipynb",
   "provenance": []
  },
  "kernelspec": {
   "display_name": "Python 3",
   "language": "python",
   "name": "python3"
  },
  "language_info": {
   "codemirror_mode": {
    "name": "ipython",
    "version": 3
   },
   "file_extension": ".py",
   "mimetype": "text/x-python",
   "name": "python",
   "nbconvert_exporter": "python",
   "pygments_lexer": "ipython3",
   "version": "3.7.6"
  }
 },
 "nbformat": 4,
 "nbformat_minor": 1
}
