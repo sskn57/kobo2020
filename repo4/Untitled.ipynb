{
 "cells": [
  {
   "cell_type": "markdown",
   "metadata": {},
   "source": [
    "第四回レポート課題\n",
    "参考文献1を参考に誤差逆伝搬法について学習した。"
   ]
  },
  {
   "cell_type": "markdown",
   "metadata": {},
   "source": [
    "1.計算グラフについての理解\\\n",
    "ニューラルネットワークにおける処理の一つ一つをレイヤという単位で考えることができる。これにより開発が容易になる。\n",
    "逆伝搬により入力した値による出力値の偏微分の値を効率よく計算できる"
   ]
  },
  {
   "cell_type": "markdown",
   "metadata": {},
   "source": [
    "2.乗算レイヤの実装"
   ]
  },
  {
   "cell_type": "code",
   "execution_count": 1,
   "metadata": {},
   "outputs": [],
   "source": [
    "#乗算レイヤ\n",
    "class MulLayer:\n",
    "    def __init__(self):\n",
    "        #入力値の保存用\n",
    "        self.x = None \n",
    "        self.y = None\n",
    "    \n",
    "    #順伝播\n",
    "    def forward(self, x, y):\n",
    "        #入力値の保存\n",
    "        self.x = x\n",
    "        self.y = y\n",
    "        #乗算\n",
    "        out = x * y\n",
    "        return out\n",
    "    \n",
    "    #逆伝播\n",
    "    def backward(self, dout):\n",
    "        dx = dout * self.y\n",
    "        dy = dout * self.x\n",
    "        return dx, dy"
   ]
  },
  {
   "cell_type": "code",
   "execution_count": 3,
   "metadata": {},
   "outputs": [
    {
     "name": "stdout",
     "output_type": "stream",
     "text": [
      "1100.0\n",
      "11.0 110.00000000000001 1000\n"
     ]
    }
   ],
   "source": [
    "#実行\n",
    "apple = 100\n",
    "apple_num = 10\n",
    "tax_rate = 1.1\n",
    "\n",
    "mul_apple_layer = MulLayer()\n",
    "mul_tax_layer = MulLayer()\n",
    "\n",
    "#forward\n",
    "apple_price = mul_apple_layer.forward(apple, apple_num)\n",
    "price = mul_tax_layer.forward(apple_price, tax_rate)\n",
    "\n",
    "print(price)\n",
    "\n",
    "#backward\n",
    "dprice = 1\n",
    "dapple_price, dtax_rate = mul_tax_layer.backward(dprice)\n",
    "dapple, dapple_num = mul_apple_layer.backward(dapple_price)\n",
    "\n",
    "print(dapple, dapple_num, dtax_rate)"
   ]
  },
  {
   "cell_type": "markdown",
   "metadata": {},
   "source": [
    "確かに計算グラフ通りの値を出力している"
   ]
  },
  {
   "cell_type": "markdown",
   "metadata": {},
   "source": [
    "3.加算レイヤの実装"
   ]
  },
  {
   "cell_type": "code",
   "execution_count": 28,
   "metadata": {},
   "outputs": [],
   "source": [
    "class AddLayer():\n",
    "    def __init__(self):\n",
    "        pass\n",
    "    \n",
    "    def forward(self, x, y):\n",
    "        #加算\n",
    "        out = x + y\n",
    "        return out\n",
    "    \n",
    "    def backward(self, dout):\n",
    "        dx = dout * 1\n",
    "        dy = dout * 1\n",
    "        return dx, dy    "
   ]
  },
  {
   "cell_type": "code",
   "execution_count": 29,
   "metadata": {},
   "outputs": [
    {
     "name": "stdout",
     "output_type": "stream",
     "text": [
      "5225.0\n",
      "11.0 110.00000000000001 27.500000000000004 165.0 4750\n"
     ]
    }
   ],
   "source": [
    "#実行\n",
    "apple = 100\n",
    "apple_num = 10\n",
    "orange = 150\n",
    "orange_num = 25\n",
    "tax_rate = 1.1\n",
    "\n",
    "mul_apple_layer = MulLayer()\n",
    "mul_orange_layer = MulLayer()\n",
    "add_apple_orange_layer = AddLayer()\n",
    "mul_tax_layer = MulLayer()\n",
    "\n",
    "#forward\n",
    "apple_price = mul_apple_layer.forward(apple, apple_num)\n",
    "orange_price = mul_orange_layer.forward(orange, orange_num)\n",
    "all_price = add_apple_orange_layer.forward(apple_price, orange_price)\n",
    "price = mul_tax_layer.forward(all_price, tax_rate)\n",
    "\n",
    "print(price)\n",
    "\n",
    "#backward\n",
    "dprice = 1\n",
    "dall_price, dtax_rate = mul_tax_layer.backward(dprice)\n",
    "dapple_price, dorange_price = add_apple_orange_layer.backward(dall_price)\n",
    "dorange, dorange_num = mul_orange_layer.backward(dorange_price)\n",
    "dapple, dapple_num = mul_apple_layer.backward(dapple_price)\n",
    "\n",
    "print(dapple, dapple_num, dorange, dorange_num, dtax_rate)\n"
   ]
  },
  {
   "cell_type": "markdown",
   "metadata": {},
   "source": [
    "このように出力値に対する各変数の偏微分した値をbackward()メソッドで求めることができる\n",
    "また、forwardとbackwardで処理する順番が真逆であることも確認できた。"
   ]
  },
  {
   "cell_type": "markdown",
   "metadata": {},
   "source": [
    "活性化関数の実装\n",
    "非線形な関数についても考える。また、スカラーではなくNumpy配列を扱うことを考える。"
   ]
  },
  {
   "cell_type": "markdown",
   "metadata": {},
   "source": [
    "4.RELUレイヤの実装\\\n",
    "$$y = x (x >  0)$$\n",
    "$$y = 0 (x <= 0)$$\n",
    "なので\n",
    "$$\\frac{\\partial y}{\\partial x} = 1 (x >  0)$$\n",
    "$$\\frac{\\partial y}{\\partial x} = 0 (x <= 0)$$\n",
    "になることに注意\\\n",
    "ReLUレイヤはスイッチのような役割を果たす"
   ]
  },
  {
   "cell_type": "code",
   "execution_count": 30,
   "metadata": {},
   "outputs": [],
   "source": [
    "class Relu:\n",
    "    def __init__(self):\n",
    "        self.mask = None\n",
    "        \n",
    "    def forward(self, x):\n",
    "        self.mask = (x <= 0) #0以下の場所をTrueとして記録した配列\n",
    "        out = x.copy() #複製(入力値への影響をなくす(そのまま代入だと参照渡しになるのでcopy()を用いる))\n",
    "        out[self.mask] = 0 #mask内でTrueの場所に0を代入\n",
    "        return out\n",
    "    \n",
    "    def backward(self, dout):\n",
    "        dout[self.mask] = 0 #入力値が0以下は0に,0より大きい場合はそのまま\n",
    "        dx = dout\n",
    "        return dx"
   ]
  },
  {
   "cell_type": "code",
   "execution_count": 31,
   "metadata": {},
   "outputs": [
    {
     "name": "stdout",
     "output_type": "stream",
     "text": [
      "[[ 1.  -0.5]\n",
      " [-2.   3. ]]\n",
      "[[1. 0.]\n",
      " [0. 3.]]\n",
      "[[False  True]\n",
      " [ True False]]\n",
      "[[1. 0.]\n",
      " [0. 1.]]\n"
     ]
    }
   ],
   "source": [
    "#実行\n",
    "import numpy as np\n",
    "x = np.array( [[ 1.0, -0.5], \n",
    "               [-2.0,  3.0]])\n",
    "\n",
    "print(x)\n",
    "\n",
    "relu_layer = Relu()\n",
    "\n",
    "#順伝播\n",
    "y = relu_layer.forward(x)\n",
    "print(y)\n",
    "\n",
    "print(relu_layer.mask)\n",
    "\n",
    "#逆伝播\n",
    "dout = np.array([[ 1.0, 1.0], \n",
    "               [1.0, 1.0]])\n",
    "dx = relu_layer.backward(dout)\n",
    "print(dx)"
   ]
  },
  {
   "cell_type": "markdown",
   "metadata": {},
   "source": [
    "5.Sigmoidレイヤの実装\\\n",
    "Sigmoid関数は次のように表すことができる\\\n",
    "$$y = \\frac{1}{1 + exp(-x)}$$\n",
    "また逆伝播の出力は以下のようになる。導出は参考文献1を参考にした。\\\n",
    "$$\\frac{\\partial L}{\\partial y} y^{2}exp(-x) = \\frac{\\partial L}{\\partial y} y (1 - y)$$"
   ]
  },
  {
   "cell_type": "code",
   "execution_count": 32,
   "metadata": {},
   "outputs": [],
   "source": [
    "class Sigmoid:\n",
    "    def __init__(self):\n",
    "        #出力結果(y)の保存用\n",
    "        self.out = None\n",
    "        \n",
    "    def forward(self, x):\n",
    "        out = 1 / (1 + np.exp(-x))\n",
    "        self.out = out\n",
    "        return out\n",
    "    \n",
    "    def backward(self, dout):\n",
    "        dx = dout * self.out * (1.0 - self.out)\n",
    "        return dx"
   ]
  },
  {
   "cell_type": "raw",
   "metadata": {},
   "source": [
    "6.Affineレイヤの実装\n",
    "重みと入力値の線形和を取り、バイアスを加える処理をnumpy配列で行うことを考える"
   ]
  },
  {
   "cell_type": "code",
   "execution_count": null,
   "metadata": {},
   "outputs": [],
   "source": [
    " "
   ]
  },
  {
   "cell_type": "markdown",
   "metadata": {},
   "source": [
    "参考文献\n",
    "1. ゼロから作る Deep Learning Pythonで学ぶディープラーニングの理論と実装\n",
    "2. https://qiita.com/mytk0u0/items/231807f4136b2b1681b0 (copyメソッドについて調べるのに利用)"
   ]
  },
  {
   "cell_type": "code",
   "execution_count": null,
   "metadata": {},
   "outputs": [],
   "source": []
  }
 ],
 "metadata": {
  "kernelspec": {
   "display_name": "Python 3",
   "language": "python",
   "name": "python3"
  },
  "language_info": {
   "codemirror_mode": {
    "name": "ipython",
    "version": 3
   },
   "file_extension": ".py",
   "mimetype": "text/x-python",
   "name": "python",
   "nbconvert_exporter": "python",
   "pygments_lexer": "ipython3",
   "version": "3.7.6"
  }
 },
 "nbformat": 4,
 "nbformat_minor": 4
}
